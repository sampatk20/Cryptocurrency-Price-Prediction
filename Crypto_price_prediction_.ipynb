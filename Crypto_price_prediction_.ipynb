{
  "nbformat": 4,
  "nbformat_minor": 0,
  "metadata": {
    "colab": {
      "name": "Crypto_price_prediction_.ipynb",
      "provenance": [],
      "authorship_tag": "ABX9TyNlQ8HG2mHoUivf95IbiYcq",
      "include_colab_link": true
    },
    "kernelspec": {
      "name": "python3",
      "display_name": "Python 3"
    },
    "language_info": {
      "name": "python"
    }
  },
  "cells": [
    {
      "cell_type": "markdown",
      "metadata": {
        "id": "view-in-github",
        "colab_type": "text"
      },
      "source": [
        "<a href=\"https://colab.research.google.com/github/sampatk20/Cryptocurrency-Price-Prediction-/blob/main/Crypto_price_prediction_.ipynb\" target=\"_parent\"><img src=\"https://colab.research.google.com/assets/colab-badge.svg\" alt=\"Open In Colab\"/></a>"
      ]
    },
    {
      "cell_type": "markdown",
      "metadata": {
        "id": "YHZj8p-NNITp"
      },
      "source": [
        "**Importing Required Libraries and Preparing The Dataset For Evaluation**\n",
        "\n"
      ]
    },
    {
      "cell_type": "code",
      "metadata": {
        "id": "EHMEiJ1uHFVd"
      },
      "source": [
        "import pandas_datareader.data as reader\n",
        "import datetime as dt\n",
        "import matplotlib.pyplot as plt\n",
        "import warnings\n",
        "\n",
        "warnings.simplefilter(action='ignore',category=FutureWarning)"
      ],
      "execution_count": null,
      "outputs": []
    },
    {
      "cell_type": "markdown",
      "metadata": {
        "id": "gfOm9FUBNijg"
      },
      "source": [
        "**Scrapping the data** using an inbuilt library **get_data_yahoo** in python directly from **Yahoo Finance Website**"
      ]
    },
    {
      "cell_type": "code",
      "metadata": {
        "id": "lno0PoeaHGPW"
      },
      "source": [
        "df=reader.get_data_yahoo('ETH-USD')"
      ],
      "execution_count": null,
      "outputs": []
    },
    {
      "cell_type": "code",
      "metadata": {
        "colab": {
          "base_uri": "https://localhost:8080/",
          "height": 450
        },
        "id": "z5xGbTaKHH8C",
        "outputId": "2eebee42-2e43-46a6-d319-487cf1dc1e35"
      },
      "source": [
        "df"
      ],
      "execution_count": null,
      "outputs": [
        {
          "output_type": "execute_result",
          "data": {
            "text/html": [
              "<div>\n",
              "<style scoped>\n",
              "    .dataframe tbody tr th:only-of-type {\n",
              "        vertical-align: middle;\n",
              "    }\n",
              "\n",
              "    .dataframe tbody tr th {\n",
              "        vertical-align: top;\n",
              "    }\n",
              "\n",
              "    .dataframe thead th {\n",
              "        text-align: right;\n",
              "    }\n",
              "</style>\n",
              "<table border=\"1\" class=\"dataframe\">\n",
              "  <thead>\n",
              "    <tr style=\"text-align: right;\">\n",
              "      <th></th>\n",
              "      <th>High</th>\n",
              "      <th>Low</th>\n",
              "      <th>Open</th>\n",
              "      <th>Close</th>\n",
              "      <th>Volume</th>\n",
              "      <th>Adj Close</th>\n",
              "      <th>Date</th>\n",
              "    </tr>\n",
              "    <tr>\n",
              "      <th>Date</th>\n",
              "      <th></th>\n",
              "      <th></th>\n",
              "      <th></th>\n",
              "      <th></th>\n",
              "      <th></th>\n",
              "      <th></th>\n",
              "      <th></th>\n",
              "    </tr>\n",
              "  </thead>\n",
              "  <tbody>\n",
              "    <tr>\n",
              "      <th>2016-06-30</th>\n",
              "      <td>12.741900</td>\n",
              "      <td>12.253600</td>\n",
              "      <td>12.602900</td>\n",
              "      <td>12.461500</td>\n",
              "      <td>1.580130e+07</td>\n",
              "      <td>12.461500</td>\n",
              "      <td>2016-06-30</td>\n",
              "    </tr>\n",
              "    <tr>\n",
              "      <th>2016-07-01</th>\n",
              "      <td>12.491300</td>\n",
              "      <td>11.733500</td>\n",
              "      <td>12.438100</td>\n",
              "      <td>12.199500</td>\n",
              "      <td>1.723650e+07</td>\n",
              "      <td>12.199500</td>\n",
              "      <td>2016-07-01</td>\n",
              "    </tr>\n",
              "    <tr>\n",
              "      <th>2016-07-02</th>\n",
              "      <td>12.220900</td>\n",
              "      <td>11.950200</td>\n",
              "      <td>12.216000</td>\n",
              "      <td>12.128400</td>\n",
              "      <td>8.987070e+06</td>\n",
              "      <td>12.128400</td>\n",
              "      <td>2016-07-02</td>\n",
              "    </tr>\n",
              "    <tr>\n",
              "      <th>2016-07-03</th>\n",
              "      <td>12.145200</td>\n",
              "      <td>11.589100</td>\n",
              "      <td>12.120800</td>\n",
              "      <td>11.720200</td>\n",
              "      <td>1.058870e+07</td>\n",
              "      <td>11.720200</td>\n",
              "      <td>2016-07-03</td>\n",
              "    </tr>\n",
              "    <tr>\n",
              "      <th>2016-07-04</th>\n",
              "      <td>11.880200</td>\n",
              "      <td>11.389500</td>\n",
              "      <td>11.696100</td>\n",
              "      <td>11.471000</td>\n",
              "      <td>1.294350e+07</td>\n",
              "      <td>11.471000</td>\n",
              "      <td>2016-07-04</td>\n",
              "    </tr>\n",
              "    <tr>\n",
              "      <th>...</th>\n",
              "      <td>...</td>\n",
              "      <td>...</td>\n",
              "      <td>...</td>\n",
              "      <td>...</td>\n",
              "      <td>...</td>\n",
              "      <td>...</td>\n",
              "      <td>...</td>\n",
              "    </tr>\n",
              "    <tr>\n",
              "      <th>2021-06-25</th>\n",
              "      <td>2017.759521</td>\n",
              "      <td>1794.400391</td>\n",
              "      <td>1989.215820</td>\n",
              "      <td>1813.217285</td>\n",
              "      <td>2.277433e+10</td>\n",
              "      <td>1813.217285</td>\n",
              "      <td>2021-06-25</td>\n",
              "    </tr>\n",
              "    <tr>\n",
              "      <th>2021-06-26</th>\n",
              "      <td>1850.179810</td>\n",
              "      <td>1719.559448</td>\n",
              "      <td>1810.884277</td>\n",
              "      <td>1829.239258</td>\n",
              "      <td>2.063754e+10</td>\n",
              "      <td>1829.239258</td>\n",
              "      <td>2021-06-26</td>\n",
              "    </tr>\n",
              "    <tr>\n",
              "      <th>2021-06-27</th>\n",
              "      <td>1979.958130</td>\n",
              "      <td>1811.245850</td>\n",
              "      <td>1830.996948</td>\n",
              "      <td>1978.894653</td>\n",
              "      <td>1.988547e+10</td>\n",
              "      <td>1978.894653</td>\n",
              "      <td>2021-06-27</td>\n",
              "    </tr>\n",
              "    <tr>\n",
              "      <th>2021-06-28</th>\n",
              "      <td>2139.805420</td>\n",
              "      <td>1963.615479</td>\n",
              "      <td>1981.386475</td>\n",
              "      <td>2079.657471</td>\n",
              "      <td>2.551460e+10</td>\n",
              "      <td>2079.657471</td>\n",
              "      <td>2021-06-28</td>\n",
              "    </tr>\n",
              "    <tr>\n",
              "      <th>2021-06-29</th>\n",
              "      <td>2229.307129</td>\n",
              "      <td>2082.025879</td>\n",
              "      <td>2082.025879</td>\n",
              "      <td>2211.158936</td>\n",
              "      <td>2.730943e+10</td>\n",
              "      <td>2211.158936</td>\n",
              "      <td>2021-06-29</td>\n",
              "    </tr>\n",
              "  </tbody>\n",
              "</table>\n",
              "<p>1822 rows × 7 columns</p>\n",
              "</div>"
            ],
            "text/plain": [
              "                   High          Low  ...    Adj Close       Date\n",
              "Date                                  ...                        \n",
              "2016-06-30    12.741900    12.253600  ...    12.461500 2016-06-30\n",
              "2016-07-01    12.491300    11.733500  ...    12.199500 2016-07-01\n",
              "2016-07-02    12.220900    11.950200  ...    12.128400 2016-07-02\n",
              "2016-07-03    12.145200    11.589100  ...    11.720200 2016-07-03\n",
              "2016-07-04    11.880200    11.389500  ...    11.471000 2016-07-04\n",
              "...                 ...          ...  ...          ...        ...\n",
              "2021-06-25  2017.759521  1794.400391  ...  1813.217285 2021-06-25\n",
              "2021-06-26  1850.179810  1719.559448  ...  1829.239258 2021-06-26\n",
              "2021-06-27  1979.958130  1811.245850  ...  1978.894653 2021-06-27\n",
              "2021-06-28  2139.805420  1963.615479  ...  2079.657471 2021-06-28\n",
              "2021-06-29  2229.307129  2082.025879  ...  2211.158936 2021-06-29\n",
              "\n",
              "[1822 rows x 7 columns]"
            ]
          },
          "metadata": {
            "tags": []
          },
          "execution_count": 18
        }
      ]
    },
    {
      "cell_type": "code",
      "metadata": {
        "id": "_3AYlOplHJaJ"
      },
      "source": [
        "df['Date'] = df.index "
      ],
      "execution_count": null,
      "outputs": []
    },
    {
      "cell_type": "code",
      "metadata": {
        "colab": {
          "base_uri": "https://localhost:8080/",
          "height": 286
        },
        "id": "W-gPcDvMHPSw",
        "outputId": "b08ebe65-0b36-4531-d71d-39ab337d5697"
      },
      "source": [
        "\n",
        "df['Close'].plot()"
      ],
      "execution_count": null,
      "outputs": [
        {
          "output_type": "execute_result",
          "data": {
            "text/plain": [
              "<matplotlib.axes._subplots.AxesSubplot at 0x7f66c9908390>"
            ]
          },
          "metadata": {
            "tags": []
          },
          "execution_count": 19
        },
        {
          "output_type": "display_data",
          "data": {
            "image/png": "[encoded data removed]",
            "text/plain": [
              "<Figure size 432x288 with 1 Axes>"
            ]
          },
          "metadata": {
            "tags": [],
            "needs_background": "light"
          }
        }
      ]
    },
    {
      "cell_type": "code",
      "metadata": {
        "colab": {
          "base_uri": "https://localhost:8080/"
        },
        "id": "HO5zNrEwIs5t",
        "outputId": "5c489a16-899a-4481-eb9d-cc9dd7678e02"
      },
      "source": [
        "df.shape"
      ],
      "execution_count": null,
      "outputs": [
        {
          "output_type": "execute_result",
          "data": {
            "text/plain": [
              "(1822, 7)"
            ]
          },
          "metadata": {
            "tags": []
          },
          "execution_count": 20
        }
      ]
    },
    {
      "cell_type": "code",
      "metadata": {
        "id": "H7Ewj0uiI0_n"
      },
      "source": [
        "data=df.copy()"
      ],
      "execution_count": null,
      "outputs": []
    },
    {
      "cell_type": "code",
      "metadata": {
        "colab": {
          "base_uri": "https://localhost:8080/"
        },
        "id": "ibGTwsbZJUbS",
        "outputId": "e171b564-3c3a-4b56-89c4-a8bd0bcd1ab6"
      },
      "source": [
        "data.dtypes"
      ],
      "execution_count": null,
      "outputs": [
        {
          "output_type": "execute_result",
          "data": {
            "text/plain": [
              "High                float64\n",
              "Low                 float64\n",
              "Open                float64\n",
              "Close               float64\n",
              "Volume              float64\n",
              "Adj Close           float64\n",
              "Date         datetime64[ns]\n",
              "dtype: object"
            ]
          },
          "metadata": {
            "tags": []
          },
          "execution_count": 23
        }
      ]
    },
    {
      "cell_type": "code",
      "metadata": {
        "colab": {
          "base_uri": "https://localhost:8080/"
        },
        "id": "O4142dMWJbxo",
        "outputId": "087b2f53-1ac0-4b30-f878-8f31b04b8be3"
      },
      "source": [
        "data.columns"
      ],
      "execution_count": null,
      "outputs": [
        {
          "output_type": "execute_result",
          "data": {
            "text/plain": [
              "Index(['High', 'Low', 'Open', 'Close', 'Volume', 'Adj Close', 'Date'], dtype='object')"
            ]
          },
          "metadata": {
            "tags": []
          },
          "execution_count": 24
        }
      ]
    },
    {
      "cell_type": "markdown",
      "metadata": {
        "id": "4fF7XGeJOJDD"
      },
      "source": [
        "**Feature Engineering is Implemented on the data**\n",
        "\n",
        "Feature Engineering\n",
        "Almost every time series problem will have some external features or some internal feature engineering to help the model.\n",
        "\n",
        "Let's add some basic features like lag values of available numeric features that are widely used for time series problems. Since we need to predict the price of the stock for a day, we cannot use the feature values of the same day since they will be unavailable at actual inference time. We need to use statistics like mean, standard deviation of their lagged values.\n",
        "\n",
        "We will use three sets of lagged values, one previous day, one looking back 7 days and another looking back 30 days as a proxy for last week and last month metrics."
      ]
    },
    {
      "cell_type": "code",
      "metadata": {
        "id": "5ro_NgkJJf4i"
      },
      "source": [
        "lag_features=['High','Low','Volume']\n",
        "window1=3\n",
        "window2=7"
      ],
      "execution_count": null,
      "outputs": []
    },
    {
      "cell_type": "code",
      "metadata": {
        "id": "u6MAO1xBKP7s"
      },
      "source": [
        "for feature in lag_features:\n",
        "    data[feature+'rolling_mean_3']=data[feature].rolling(window=window1).mean()\n",
        "    data[feature+'rolling_mean_7']=data[feature].rolling(window=window2).mean()"
      ],
      "execution_count": null,
      "outputs": []
    },
    {
      "cell_type": "code",
      "metadata": {
        "id": "hhIjvvnuKS1t"
      },
      "source": [
        "for feature in lag_features:\n",
        "    data[feature+'rolling_std_3']=data[feature].rolling(window=window1).std()\n",
        "    data[feature+'rolling_std_7']=data[feature].rolling(window=window2).std()"
      ],
      "execution_count": null,
      "outputs": []
    },
    {
      "cell_type": "code",
      "metadata": {
        "colab": {
          "base_uri": "https://localhost:8080/",
          "height": 357
        },
        "id": "dD5KIxUNKVLr",
        "outputId": "676b8c07-a0f3-45b5-b44d-fd7862180e31"
      },
      "source": [
        "data.head()"
      ],
      "execution_count": null,
      "outputs": [
        {
          "output_type": "execute_result",
          "data": {
            "text/html": [
              "<div>\n",
              "<style scoped>\n",
              "    .dataframe tbody tr th:only-of-type {\n",
              "        vertical-align: middle;\n",
              "    }\n",
              "\n",
              "    .dataframe tbody tr th {\n",
              "        vertical-align: top;\n",
              "    }\n",
              "\n",
              "    .dataframe thead th {\n",
              "        text-align: right;\n",
              "    }\n",
              "</style>\n",
              "<table border=\"1\" class=\"dataframe\">\n",
              "  <thead>\n",
              "    <tr style=\"text-align: right;\">\n",
              "      <th></th>\n",
              "      <th>High</th>\n",
              "      <th>Low</th>\n",
              "      <th>Open</th>\n",
              "      <th>Close</th>\n",
              "      <th>Volume</th>\n",
              "      <th>Adj Close</th>\n",
              "      <th>Date</th>\n",
              "      <th>Highrolling_mean_3</th>\n",
              "      <th>Highrolling_mean_7</th>\n",
              "      <th>Lowrolling_mean_3</th>\n",
              "      <th>Lowrolling_mean_7</th>\n",
              "      <th>Volumerolling_mean_3</th>\n",
              "      <th>Volumerolling_mean_7</th>\n",
              "      <th>Highrolling_std_3</th>\n",
              "      <th>Highrolling_std_7</th>\n",
              "      <th>Lowrolling_std_3</th>\n",
              "      <th>Lowrolling_std_7</th>\n",
              "      <th>Volumerolling_std_3</th>\n",
              "      <th>Volumerolling_std_7</th>\n",
              "    </tr>\n",
              "    <tr>\n",
              "      <th>Date</th>\n",
              "      <th></th>\n",
              "      <th></th>\n",
              "      <th></th>\n",
              "      <th></th>\n",
              "      <th></th>\n",
              "      <th></th>\n",
              "      <th></th>\n",
              "      <th></th>\n",
              "      <th></th>\n",
              "      <th></th>\n",
              "      <th></th>\n",
              "      <th></th>\n",
              "      <th></th>\n",
              "      <th></th>\n",
              "      <th></th>\n",
              "      <th></th>\n",
              "      <th></th>\n",
              "      <th></th>\n",
              "      <th></th>\n",
              "    </tr>\n",
              "  </thead>\n",
              "  <tbody>\n",
              "    <tr>\n",
              "      <th>2016-06-30</th>\n",
              "      <td>12.7419</td>\n",
              "      <td>12.2536</td>\n",
              "      <td>12.6029</td>\n",
              "      <td>12.4615</td>\n",
              "      <td>15801300.0</td>\n",
              "      <td>12.4615</td>\n",
              "      <td>2016-06-30</td>\n",
              "      <td>NaN</td>\n",
              "      <td>NaN</td>\n",
              "      <td>NaN</td>\n",
              "      <td>NaN</td>\n",
              "      <td>NaN</td>\n",
              "      <td>NaN</td>\n",
              "      <td>NaN</td>\n",
              "      <td>NaN</td>\n",
              "      <td>NaN</td>\n",
              "      <td>NaN</td>\n",
              "      <td>NaN</td>\n",
              "      <td>NaN</td>\n",
              "    </tr>\n",
              "    <tr>\n",
              "      <th>2016-07-01</th>\n",
              "      <td>12.4913</td>\n",
              "      <td>11.7335</td>\n",
              "      <td>12.4381</td>\n",
              "      <td>12.1995</td>\n",
              "      <td>17236500.0</td>\n",
              "      <td>12.1995</td>\n",
              "      <td>2016-07-01</td>\n",
              "      <td>NaN</td>\n",
              "      <td>NaN</td>\n",
              "      <td>NaN</td>\n",
              "      <td>NaN</td>\n",
              "      <td>NaN</td>\n",
              "      <td>NaN</td>\n",
              "      <td>NaN</td>\n",
              "      <td>NaN</td>\n",
              "      <td>NaN</td>\n",
              "      <td>NaN</td>\n",
              "      <td>NaN</td>\n",
              "      <td>NaN</td>\n",
              "    </tr>\n",
              "    <tr>\n",
              "      <th>2016-07-02</th>\n",
              "      <td>12.2209</td>\n",
              "      <td>11.9502</td>\n",
              "      <td>12.2160</td>\n",
              "      <td>12.1284</td>\n",
              "      <td>8987070.0</td>\n",
              "      <td>12.1284</td>\n",
              "      <td>2016-07-02</td>\n",
              "      <td>12.4847</td>\n",
              "      <td>NaN</td>\n",
              "      <td>11.979100</td>\n",
              "      <td>NaN</td>\n",
              "      <td>1.400829e+07</td>\n",
              "      <td>NaN</td>\n",
              "      <td>0.260563</td>\n",
              "      <td>NaN</td>\n",
              "      <td>0.261252</td>\n",
              "      <td>NaN</td>\n",
              "      <td>4.407316e+06</td>\n",
              "      <td>NaN</td>\n",
              "    </tr>\n",
              "    <tr>\n",
              "      <th>2016-07-03</th>\n",
              "      <td>12.1452</td>\n",
              "      <td>11.5891</td>\n",
              "      <td>12.1208</td>\n",
              "      <td>11.7202</td>\n",
              "      <td>10588700.0</td>\n",
              "      <td>11.7202</td>\n",
              "      <td>2016-07-03</td>\n",
              "      <td>12.2858</td>\n",
              "      <td>NaN</td>\n",
              "      <td>11.757600</td>\n",
              "      <td>NaN</td>\n",
              "      <td>1.227076e+07</td>\n",
              "      <td>NaN</td>\n",
              "      <td>0.181949</td>\n",
              "      <td>NaN</td>\n",
              "      <td>0.181752</td>\n",
              "      <td>NaN</td>\n",
              "      <td>4.374387e+06</td>\n",
              "      <td>NaN</td>\n",
              "    </tr>\n",
              "    <tr>\n",
              "      <th>2016-07-04</th>\n",
              "      <td>11.8802</td>\n",
              "      <td>11.3895</td>\n",
              "      <td>11.6961</td>\n",
              "      <td>11.4710</td>\n",
              "      <td>12943500.0</td>\n",
              "      <td>11.4710</td>\n",
              "      <td>2016-07-04</td>\n",
              "      <td>12.0821</td>\n",
              "      <td>NaN</td>\n",
              "      <td>11.642933</td>\n",
              "      <td>NaN</td>\n",
              "      <td>1.083976e+07</td>\n",
              "      <td>NaN</td>\n",
              "      <td>0.178900</td>\n",
              "      <td>NaN</td>\n",
              "      <td>0.284200</td>\n",
              "      <td>NaN</td>\n",
              "      <td>1.990127e+06</td>\n",
              "      <td>NaN</td>\n",
              "    </tr>\n",
              "  </tbody>\n",
              "</table>\n",
              "</div>"
            ],
            "text/plain": [
              "               High      Low  ...  Volumerolling_std_3  Volumerolling_std_7\n",
              "Date                          ...                                          \n",
              "2016-06-30  12.7419  12.2536  ...                  NaN                  NaN\n",
              "2016-07-01  12.4913  11.7335  ...                  NaN                  NaN\n",
              "2016-07-02  12.2209  11.9502  ...         4.407316e+06                  NaN\n",
              "2016-07-03  12.1452  11.5891  ...         4.374387e+06                  NaN\n",
              "2016-07-04  11.8802  11.3895  ...         1.990127e+06                  NaN\n",
              "\n",
              "[5 rows x 19 columns]"
            ]
          },
          "metadata": {
            "tags": []
          },
          "execution_count": 28
        }
      ]
    },
    {
      "cell_type": "code",
      "metadata": {
        "colab": {
          "base_uri": "https://localhost:8080/"
        },
        "id": "BynYmpqfKW_O",
        "outputId": "18874a8b-7f43-41bb-eb7c-ee12a7d3f89f"
      },
      "source": [
        "data.columns"
      ],
      "execution_count": null,
      "outputs": [
        {
          "output_type": "execute_result",
          "data": {
            "text/plain": [
              "Index(['High', 'Low', 'Open', 'Close', 'Volume', 'Adj Close', 'Date',\n",
              "       'Highrolling_mean_3', 'Highrolling_mean_7', 'Lowrolling_mean_3',\n",
              "       'Lowrolling_mean_7', 'Volumerolling_mean_3', 'Volumerolling_mean_7',\n",
              "       'Highrolling_std_3', 'Highrolling_std_7', 'Lowrolling_std_3',\n",
              "       'Lowrolling_std_7', 'Volumerolling_std_3', 'Volumerolling_std_7'],\n",
              "      dtype='object')"
            ]
          },
          "metadata": {
            "tags": []
          },
          "execution_count": 29
        }
      ]
    },
    {
      "cell_type": "code",
      "metadata": {
        "colab": {
          "base_uri": "https://localhost:8080/"
        },
        "id": "NW9dXXuyKbRJ",
        "outputId": "860144ac-dd4c-4546-ee02-3a96ee3585fe"
      },
      "source": [
        "data.shape"
      ],
      "execution_count": null,
      "outputs": [
        {
          "output_type": "execute_result",
          "data": {
            "text/plain": [
              "(1822, 19)"
            ]
          },
          "metadata": {
            "tags": []
          },
          "execution_count": 30
        }
      ]
    },
    {
      "cell_type": "code",
      "metadata": {
        "colab": {
          "base_uri": "https://localhost:8080/"
        },
        "id": "Pwt9mFt4KdBC",
        "outputId": "5af6a066-a81e-42a6-e20e-8bcd000b9075"
      },
      "source": [
        "data.isna().sum()"
      ],
      "execution_count": null,
      "outputs": [
        {
          "output_type": "execute_result",
          "data": {
            "text/plain": [
              "High                    0\n",
              "Low                     0\n",
              "Open                    0\n",
              "Close                   0\n",
              "Volume                  0\n",
              "Adj Close               0\n",
              "Date                    0\n",
              "Highrolling_mean_3      2\n",
              "Highrolling_mean_7      6\n",
              "Lowrolling_mean_3       2\n",
              "Lowrolling_mean_7       6\n",
              "Volumerolling_mean_3    2\n",
              "Volumerolling_mean_7    6\n",
              "Highrolling_std_3       2\n",
              "Highrolling_std_7       6\n",
              "Lowrolling_std_3        2\n",
              "Lowrolling_std_7        6\n",
              "Volumerolling_std_3     2\n",
              "Volumerolling_std_7     6\n",
              "dtype: int64"
            ]
          },
          "metadata": {
            "tags": []
          },
          "execution_count": 31
        }
      ]
    },
    {
      "cell_type": "code",
      "metadata": {
        "id": "9eFrG8S9Ke37"
      },
      "source": [
        "data.dropna(inplace=True)"
      ],
      "execution_count": null,
      "outputs": []
    },
    {
      "cell_type": "code",
      "metadata": {
        "colab": {
          "base_uri": "https://localhost:8080/"
        },
        "id": "oePQCe0RKhTH",
        "outputId": "f04f4c25-4b75-4d8d-ae50-f08a1143e588"
      },
      "source": [
        "data.columns"
      ],
      "execution_count": null,
      "outputs": [
        {
          "output_type": "execute_result",
          "data": {
            "text/plain": [
              "Index(['High', 'Low', 'Open', 'Close', 'Volume', 'Adj Close', 'Date',\n",
              "       'Highrolling_mean_3', 'Highrolling_mean_7', 'Lowrolling_mean_3',\n",
              "       'Lowrolling_mean_7', 'Volumerolling_mean_3', 'Volumerolling_mean_7',\n",
              "       'Highrolling_std_3', 'Highrolling_std_7', 'Lowrolling_std_3',\n",
              "       'Lowrolling_std_7', 'Volumerolling_std_3', 'Volumerolling_std_7'],\n",
              "      dtype='object')"
            ]
          },
          "metadata": {
            "tags": []
          },
          "execution_count": 33
        }
      ]
    },
    {
      "cell_type": "code",
      "metadata": {
        "id": "LABTLy4eKiwn"
      },
      "source": [
        "ind_features=['Highrolling_mean_3', 'Highrolling_mean_7',\n",
        "       'Lowrolling_mean_3', 'Lowrolling_mean_7', 'Volumerolling_mean_3',\n",
        "       'Volumerolling_mean_7',  'Highrolling_std_3', 'Highrolling_std_7',\n",
        "       'Lowrolling_std_3', 'Lowrolling_std_7', 'Volumerolling_std_3',\n",
        "       'Volumerolling_std_7']"
      ],
      "execution_count": null,
      "outputs": []
    },
    {
      "cell_type": "markdown",
      "metadata": {
        "id": "QfB-rqhhOjxK"
      },
      "source": [
        "**Training and Testing the Data** "
      ]
    },
    {
      "cell_type": "code",
      "metadata": {
        "id": "FaEOq6mDKkrC"
      },
      "source": [
        "training_data=data[0:1400]\n",
        "test_data=data[1400:]"
      ],
      "execution_count": null,
      "outputs": []
    },
    {
      "cell_type": "code",
      "metadata": {
        "colab": {
          "base_uri": "https://localhost:8080/",
          "height": 657
        },
        "id": "UjQbUiN0KzW6",
        "outputId": "2931687b-93ae-41b8-fd45-23c6e585b5fa"
      },
      "source": [
        "training_data"
      ],
      "execution_count": null,
      "outputs": [
        {
          "output_type": "execute_result",
          "data": {
            "text/html": [
              "<div>\n",
              "<style scoped>\n",
              "    .dataframe tbody tr th:only-of-type {\n",
              "        vertical-align: middle;\n",
              "    }\n",
              "\n",
              "    .dataframe tbody tr th {\n",
              "        vertical-align: top;\n",
              "    }\n",
              "\n",
              "    .dataframe thead th {\n",
              "        text-align: right;\n",
              "    }\n",
              "</style>\n",
              "<table border=\"1\" class=\"dataframe\">\n",
              "  <thead>\n",
              "    <tr style=\"text-align: right;\">\n",
              "      <th></th>\n",
              "      <th>High</th>\n",
              "      <th>Low</th>\n",
              "      <th>Open</th>\n",
              "      <th>Close</th>\n",
              "      <th>Volume</th>\n",
              "      <th>Adj Close</th>\n",
              "      <th>Date</th>\n",
              "      <th>Highrolling_mean_3</th>\n",
              "      <th>Highrolling_mean_7</th>\n",
              "      <th>Lowrolling_mean_3</th>\n",
              "      <th>Lowrolling_mean_7</th>\n",
              "      <th>Volumerolling_mean_3</th>\n",
              "      <th>Volumerolling_mean_7</th>\n",
              "      <th>Highrolling_std_3</th>\n",
              "      <th>Highrolling_std_7</th>\n",
              "      <th>Lowrolling_std_3</th>\n",
              "      <th>Lowrolling_std_7</th>\n",
              "      <th>Volumerolling_std_3</th>\n",
              "      <th>Volumerolling_std_7</th>\n",
              "    </tr>\n",
              "    <tr>\n",
              "      <th>Date</th>\n",
              "      <th></th>\n",
              "      <th></th>\n",
              "      <th></th>\n",
              "      <th></th>\n",
              "      <th></th>\n",
              "      <th></th>\n",
              "      <th></th>\n",
              "      <th></th>\n",
              "      <th></th>\n",
              "      <th></th>\n",
              "      <th></th>\n",
              "      <th></th>\n",
              "      <th></th>\n",
              "      <th></th>\n",
              "      <th></th>\n",
              "      <th></th>\n",
              "      <th></th>\n",
              "      <th></th>\n",
              "      <th></th>\n",
              "    </tr>\n",
              "  </thead>\n",
              "  <tbody>\n",
              "    <tr>\n",
              "      <th>2016-07-06</th>\n",
              "      <td>11.105600</td>\n",
              "      <td>10.280800</td>\n",
              "      <td>10.575800</td>\n",
              "      <td>10.528900</td>\n",
              "      <td>1.813730e+07</td>\n",
              "      <td>10.528900</td>\n",
              "      <td>2016-07-06</td>\n",
              "      <td>11.501200</td>\n",
              "      <td>12.014700</td>\n",
              "      <td>10.415520</td>\n",
              "      <td>11.253280</td>\n",
              "      <td>2.553590e+07</td>\n",
              "      <td>1.846018e+07</td>\n",
              "      <td>0.387567</td>\n",
              "      <td>0.563764</td>\n",
              "      <td>0.914096</td>\n",
              "      <td>0.966643</td>\n",
              "      <td>1.750640e+07</td>\n",
              "      <td>1.240573e+07</td>\n",
              "    </tr>\n",
              "    <tr>\n",
              "      <th>2016-07-07</th>\n",
              "      <td>10.565800</td>\n",
              "      <td>9.803210</td>\n",
              "      <td>10.535900</td>\n",
              "      <td>10.109400</td>\n",
              "      <td>1.540720e+07</td>\n",
              "      <td>10.109400</td>\n",
              "      <td>2016-07-07</td>\n",
              "      <td>11.063067</td>\n",
              "      <td>11.703829</td>\n",
              "      <td>9.886757</td>\n",
              "      <td>10.903224</td>\n",
              "      <td>2.635713e+07</td>\n",
              "      <td>1.840388e+07</td>\n",
              "      <td>0.477423</td>\n",
              "      <td>0.683250</td>\n",
              "      <td>0.359624</td>\n",
              "      <td>0.987478</td>\n",
              "      <td>1.665753e+07</td>\n",
              "      <td>1.242069e+07</td>\n",
              "    </tr>\n",
              "    <tr>\n",
              "      <th>2016-07-08</th>\n",
              "      <td>11.524800</td>\n",
              "      <td>9.961260</td>\n",
              "      <td>10.115300</td>\n",
              "      <td>11.394600</td>\n",
              "      <td>2.003980e+07</td>\n",
              "      <td>11.394600</td>\n",
              "      <td>2016-07-08</td>\n",
              "      <td>11.065400</td>\n",
              "      <td>11.565757</td>\n",
              "      <td>10.015090</td>\n",
              "      <td>10.650047</td>\n",
              "      <td>1.786143e+07</td>\n",
              "      <td>1.880435e+07</td>\n",
              "      <td>0.480762</td>\n",
              "      <td>0.588710</td>\n",
              "      <td>0.243303</td>\n",
              "      <td>0.966086</td>\n",
              "      <td>2.328588e+06</td>\n",
              "      <td>1.242197e+07</td>\n",
              "    </tr>\n",
              "    <tr>\n",
              "      <th>2016-07-09</th>\n",
              "      <td>11.456700</td>\n",
              "      <td>10.729500</td>\n",
              "      <td>11.417700</td>\n",
              "      <td>10.965500</td>\n",
              "      <td>1.725480e+07</td>\n",
              "      <td>10.965500</td>\n",
              "      <td>2016-07-09</td>\n",
              "      <td>11.182433</td>\n",
              "      <td>11.456586</td>\n",
              "      <td>10.164657</td>\n",
              "      <td>10.475661</td>\n",
              "      <td>1.756727e+07</td>\n",
              "      <td>1.998546e+07</td>\n",
              "      <td>0.535105</td>\n",
              "      <td>0.512954</td>\n",
              "      <td>0.495511</td>\n",
              "      <td>0.785597</td>\n",
              "      <td>2.332053e+06</td>\n",
              "      <td>1.170533e+07</td>\n",
              "    </tr>\n",
              "    <tr>\n",
              "      <th>2016-07-10</th>\n",
              "      <td>11.013700</td>\n",
              "      <td>10.782200</td>\n",
              "      <td>10.960400</td>\n",
              "      <td>10.947600</td>\n",
              "      <td>5.479240e+06</td>\n",
              "      <td>10.947600</td>\n",
              "      <td>2016-07-10</td>\n",
              "      <td>11.331733</td>\n",
              "      <td>11.294943</td>\n",
              "      <td>10.490987</td>\n",
              "      <td>10.360390</td>\n",
              "      <td>1.425795e+07</td>\n",
              "      <td>1.925553e+07</td>\n",
              "      <td>0.277522</td>\n",
              "      <td>0.431623</td>\n",
              "      <td>0.459513</td>\n",
              "      <td>0.640856</td>\n",
              "      <td>7.729057e+06</td>\n",
              "      <td>1.251992e+07</td>\n",
              "    </tr>\n",
              "    <tr>\n",
              "      <th>...</th>\n",
              "      <td>...</td>\n",
              "      <td>...</td>\n",
              "      <td>...</td>\n",
              "      <td>...</td>\n",
              "      <td>...</td>\n",
              "      <td>...</td>\n",
              "      <td>...</td>\n",
              "      <td>...</td>\n",
              "      <td>...</td>\n",
              "      <td>...</td>\n",
              "      <td>...</td>\n",
              "      <td>...</td>\n",
              "      <td>...</td>\n",
              "      <td>...</td>\n",
              "      <td>...</td>\n",
              "      <td>...</td>\n",
              "      <td>...</td>\n",
              "      <td>...</td>\n",
              "      <td>...</td>\n",
              "    </tr>\n",
              "    <tr>\n",
              "      <th>2020-05-02</th>\n",
              "      <td>215.847534</td>\n",
              "      <td>212.878677</td>\n",
              "      <td>214.230087</td>\n",
              "      <td>215.325378</td>\n",
              "      <td>1.826088e+10</td>\n",
              "      <td>215.325378</td>\n",
              "      <td>2020-05-02</td>\n",
              "      <td>220.335083</td>\n",
              "      <td>211.020599</td>\n",
              "      <td>209.032160</td>\n",
              "      <td>201.184664</td>\n",
              "      <td>2.238880e+10</td>\n",
              "      <td>2.125529e+10</td>\n",
              "      <td>6.293993</td>\n",
              "      <td>11.635258</td>\n",
              "      <td>3.398283</td>\n",
              "      <td>7.727434</td>\n",
              "      <td>5.099359e+09</td>\n",
              "      <td>4.217840e+09</td>\n",
              "    </tr>\n",
              "    <tr>\n",
              "      <th>2020-05-03</th>\n",
              "      <td>219.270874</td>\n",
              "      <td>208.692368</td>\n",
              "      <td>215.352066</td>\n",
              "      <td>210.933151</td>\n",
              "      <td>2.046903e+10</td>\n",
              "      <td>210.933151</td>\n",
              "      <td>2020-05-03</td>\n",
              "      <td>217.582143</td>\n",
              "      <td>213.867157</td>\n",
              "      <td>209.783976</td>\n",
              "      <td>203.173850</td>\n",
              "      <td>1.984874e+10</td>\n",
              "      <td>2.156010e+10</td>\n",
              "      <td>1.712131</td>\n",
              "      <td>10.702818</td>\n",
              "      <td>2.718562</td>\n",
              "      <td>7.591380</td>\n",
              "      <td>1.386054e+09</td>\n",
              "      <td>4.045222e+09</td>\n",
              "    </tr>\n",
              "    <tr>\n",
              "      <th>2020-05-04</th>\n",
              "      <td>211.828384</td>\n",
              "      <td>199.047729</td>\n",
              "      <td>210.890854</td>\n",
              "      <td>208.174011</td>\n",
              "      <td>2.260245e+10</td>\n",
              "      <td>208.174011</td>\n",
              "      <td>2020-05-04</td>\n",
              "      <td>215.648931</td>\n",
              "      <td>215.620813</td>\n",
              "      <td>206.872925</td>\n",
              "      <td>203.972931</td>\n",
              "      <td>2.044412e+10</td>\n",
              "      <td>2.212185e+10</td>\n",
              "      <td>3.725217</td>\n",
              "      <td>8.803695</td>\n",
              "      <td>7.092712</td>\n",
              "      <td>6.631454</td>\n",
              "      <td>2.170892e+09</td>\n",
              "      <td>3.845104e+09</td>\n",
              "    </tr>\n",
              "    <tr>\n",
              "      <th>2020-05-05</th>\n",
              "      <td>211.778625</td>\n",
              "      <td>204.031128</td>\n",
              "      <td>208.013000</td>\n",
              "      <td>206.774399</td>\n",
              "      <td>1.900469e+10</td>\n",
              "      <td>206.774399</td>\n",
              "      <td>2020-05-05</td>\n",
              "      <td>214.292628</td>\n",
              "      <td>217.476824</td>\n",
              "      <td>203.923742</td>\n",
              "      <td>205.284603</td>\n",
              "      <td>2.069206e+10</td>\n",
              "      <td>2.223430e+10</td>\n",
              "      <td>4.311359</td>\n",
              "      <td>5.358587</td>\n",
              "      <td>4.823216</td>\n",
              "      <td>5.300610</td>\n",
              "      <td>1.809218e+09</td>\n",
              "      <td>3.721407e+09</td>\n",
              "    </tr>\n",
              "    <tr>\n",
              "      <th>2020-05-06</th>\n",
              "      <td>211.534622</td>\n",
              "      <td>204.040878</td>\n",
              "      <td>206.481354</td>\n",
              "      <td>204.055786</td>\n",
              "      <td>2.034354e+10</td>\n",
              "      <td>204.055786</td>\n",
              "      <td>2020-05-06</td>\n",
              "      <td>211.713877</td>\n",
              "      <td>216.488251</td>\n",
              "      <td>202.373245</td>\n",
              "      <td>206.129798</td>\n",
              "      <td>2.065023e+10</td>\n",
              "      <td>2.136944e+10</td>\n",
              "      <td>0.157221</td>\n",
              "      <td>5.770607</td>\n",
              "      <td>2.879985</td>\n",
              "      <td>4.356188</td>\n",
              "      <td>1.818380e+09</td>\n",
              "      <td>3.268530e+09</td>\n",
              "    </tr>\n",
              "  </tbody>\n",
              "</table>\n",
              "<p>1400 rows × 19 columns</p>\n",
              "</div>"
            ],
            "text/plain": [
              "                  High         Low  ...  Volumerolling_std_3  Volumerolling_std_7\n",
              "Date                                ...                                          \n",
              "2016-07-06   11.105600   10.280800  ...         1.750640e+07         1.240573e+07\n",
              "2016-07-07   10.565800    9.803210  ...         1.665753e+07         1.242069e+07\n",
              "2016-07-08   11.524800    9.961260  ...         2.328588e+06         1.242197e+07\n",
              "2016-07-09   11.456700   10.729500  ...         2.332053e+06         1.170533e+07\n",
              "2016-07-10   11.013700   10.782200  ...         7.729057e+06         1.251992e+07\n",
              "...                ...         ...  ...                  ...                  ...\n",
              "2020-05-02  215.847534  212.878677  ...         5.099359e+09         4.217840e+09\n",
              "2020-05-03  219.270874  208.692368  ...         1.386054e+09         4.045222e+09\n",
              "2020-05-04  211.828384  199.047729  ...         2.170892e+09         3.845104e+09\n",
              "2020-05-05  211.778625  204.031128  ...         1.809218e+09         3.721407e+09\n",
              "2020-05-06  211.534622  204.040878  ...         1.818380e+09         3.268530e+09\n",
              "\n",
              "[1400 rows x 19 columns]"
            ]
          },
          "metadata": {
            "tags": []
          },
          "execution_count": 44
        }
      ]
    },
    {
      "cell_type": "markdown",
      "metadata": {
        "id": "K29RtrzDOuam"
      },
      "source": [
        "**Model Creation and Forecasting the model on basis of the Data** "
      ]
    },
    {
      "cell_type": "code",
      "metadata": {
        "colab": {
          "base_uri": "https://localhost:8080/"
        },
        "id": "meBjV2v5K1I3",
        "outputId": "61a948fd-4403-42e8-c2fa-96e237187461"
      },
      "source": [
        "!pip install pmdarima"
      ],
      "execution_count": null,
      "outputs": [
        {
          "output_type": "stream",
          "text": [
            "Requirement already satisfied: pmdarima in /usr/local/lib/python3.7/dist-packages (1.8.2)\n",
            "Requirement already satisfied: setuptools!=50.0.0,>=38.6.0 in /usr/local/lib/python3.7/dist-packages (from pmdarima) (57.0.0)\n",
            "Requirement already satisfied: Cython!=0.29.18,>=0.29 in /usr/local/lib/python3.7/dist-packages (from pmdarima) (0.29.23)\n",
            "Requirement already satisfied: scikit-learn>=0.22 in /usr/local/lib/python3.7/dist-packages (from pmdarima) (0.22.2.post1)\n",
            "Requirement already satisfied: scipy>=1.3.2 in /usr/local/lib/python3.7/dist-packages (from pmdarima) (1.4.1)\n",
            "Requirement already satisfied: pandas>=0.19 in /usr/local/lib/python3.7/dist-packages (from pmdarima) (1.1.5)\n",
            "Requirement already satisfied: urllib3 in /usr/local/lib/python3.7/dist-packages (from pmdarima) (1.24.3)\n",
            "Requirement already satisfied: numpy~=1.19.0 in /usr/local/lib/python3.7/dist-packages (from pmdarima) (1.19.5)\n",
            "Requirement already satisfied: statsmodels!=0.12.0,>=0.11 in /usr/local/lib/python3.7/dist-packages (from pmdarima) (0.12.2)\n",
            "Requirement already satisfied: joblib>=0.11 in /usr/local/lib/python3.7/dist-packages (from pmdarima) (1.0.1)\n",
            "Requirement already satisfied: python-dateutil>=2.7.3 in /usr/local/lib/python3.7/dist-packages (from pandas>=0.19->pmdarima) (2.8.1)\n",
            "Requirement already satisfied: pytz>=2017.2 in /usr/local/lib/python3.7/dist-packages (from pandas>=0.19->pmdarima) (2018.9)\n",
            "Requirement already satisfied: patsy>=0.5 in /usr/local/lib/python3.7/dist-packages (from statsmodels!=0.12.0,>=0.11->pmdarima) (0.5.1)\n",
            "Requirement already satisfied: six>=1.5 in /usr/local/lib/python3.7/dist-packages (from python-dateutil>=2.7.3->pandas>=0.19->pmdarima) (1.15.0)\n"
          ],
          "name": "stdout"
        }
      ]
    },
    {
      "cell_type": "code",
      "metadata": {
        "id": "rhSmmd_hK5HR"
      },
      "source": [
        "from pmdarima import auto_arima"
      ],
      "execution_count": null,
      "outputs": []
    },
    {
      "cell_type": "code",
      "metadata": {
        "colab": {
          "base_uri": "https://localhost:8080/"
        },
        "id": "RQfQ9jeUK-RA",
        "outputId": "f21a16a1-dfde-404d-d26a-2eac7078ebca"
      },
      "source": [
        "model=auto_arima(y=training_data['Close'],exogenous=training_data[ind_features],trace=True)"
      ],
      "execution_count": null,
      "outputs": [
        {
          "output_type": "stream",
          "text": [
            "Performing stepwise search to minimize aic\n",
            " ARIMA(2,0,2)(0,0,0)[0] intercept   : AIC=11512.361, Time=3.91 sec\n",
            " ARIMA(0,0,0)(0,0,0)[0] intercept   : AIC=11830.670, Time=1.81 sec\n",
            " ARIMA(1,0,0)(0,0,0)[0] intercept   : AIC=11626.562, Time=1.88 sec\n",
            " ARIMA(0,0,1)(0,0,0)[0] intercept   : AIC=11547.483, Time=2.68 sec\n",
            " ARIMA(0,0,0)(0,0,0)[0]             : AIC=20571.658, Time=1.73 sec\n",
            " ARIMA(1,0,2)(0,0,0)[0] intercept   : AIC=11548.506, Time=3.37 sec\n",
            " ARIMA(2,0,1)(0,0,0)[0] intercept   : AIC=11510.810, Time=3.03 sec\n",
            " ARIMA(1,0,1)(0,0,0)[0] intercept   : AIC=11549.587, Time=3.28 sec\n",
            " ARIMA(2,0,0)(0,0,0)[0] intercept   : AIC=11509.833, Time=2.97 sec\n",
            " ARIMA(3,0,0)(0,0,0)[0] intercept   : AIC=11510.669, Time=3.46 sec\n",
            " ARIMA(3,0,1)(0,0,0)[0] intercept   : AIC=11512.705, Time=3.19 sec\n",
            " ARIMA(2,0,0)(0,0,0)[0]             : AIC=11507.890, Time=2.65 sec\n",
            " ARIMA(1,0,0)(0,0,0)[0]             : AIC=11624.594, Time=1.74 sec\n",
            " ARIMA(3,0,0)(0,0,0)[0]             : AIC=11508.729, Time=3.14 sec\n",
            " ARIMA(2,0,1)(0,0,0)[0]             : AIC=11508.869, Time=2.94 sec\n",
            " ARIMA(1,0,1)(0,0,0)[0]             : AIC=11547.621, Time=2.46 sec\n",
            " ARIMA(3,0,1)(0,0,0)[0]             : AIC=11510.762, Time=3.61 sec\n",
            "\n",
            "Best model:  ARIMA(2,0,0)(0,0,0)[0]          \n",
            "Total fit time: 47.920 seconds\n"
          ],
          "name": "stdout"
        }
      ]
    },
    {
      "cell_type": "code",
      "metadata": {
        "colab": {
          "base_uri": "https://localhost:8080/"
        },
        "id": "730qZvE1LAqF",
        "outputId": "6db66621-7b82-4ce6-cda6-74589f64377e"
      },
      "source": [
        "model.fit(training_data['Close'],training_data[ind_features])"
      ],
      "execution_count": null,
      "outputs": [
        {
          "output_type": "execute_result",
          "data": {
            "text/plain": [
              "ARIMA(maxiter=50, method='lbfgs', order=(2, 0, 0), out_of_sample_size=0,\n",
              "      scoring='mse', scoring_args={}, seasonal_order=(0, 0, 0, 0),\n",
              "      start_params=None, suppress_warnings=True, trend=None,\n",
              "      with_intercept=False)"
            ]
          },
          "metadata": {
            "tags": []
          },
          "execution_count": 48
        }
      ]
    },
    {
      "cell_type": "code",
      "metadata": {
        "id": "g3QIOry7LxEW"
      },
      "source": [
        "forecast=model.predict(n_periods=len(test_data), exogenous=test_data[ind_features])"
      ],
      "execution_count": null,
      "outputs": []
    },
    {
      "cell_type": "code",
      "metadata": {
        "id": "glYX_Eq-L08c"
      },
      "source": [
        "test_data['Forecast_ARIMA']=forecast"
      ],
      "execution_count": null,
      "outputs": []
    },
    {
      "cell_type": "code",
      "metadata": {
        "colab": {
          "base_uri": "https://localhost:8080/",
          "height": 441
        },
        "id": "OtSqnl34L26p",
        "outputId": "675c7b62-6059-4425-e694-e674c92885f1"
      },
      "source": [
        "test_data[['Close','Forecast_ARIMA']].plot(figsize=(14,7))"
      ],
      "execution_count": null,
      "outputs": [
        {
          "output_type": "execute_result",
          "data": {
            "text/plain": [
              "<matplotlib.axes._subplots.AxesSubplot at 0x7f669c9ead10>"
            ]
          },
          "metadata": {
            "tags": []
          },
          "execution_count": 52
        },
        {
          "output_type": "display_data",
          "data": {
            "image/png": "[encoded data removed]",
            "text/plain": [
              "<Figure size 1008x504 with 1 Axes>"
            ]
          },
          "metadata": {
            "tags": [],
            "needs_background": "light"
          }
        }
      ]
    },
    {
      "cell_type": "code",
      "metadata": {
        "id": "rboAAQbqL5KL"
      },
      "source": [
        "import pandas as pd\n",
        "import numpy as np\n",
        "from sklearn.metrics import mean_absolute_error, mean_squared_error"
      ],
      "execution_count": null,
      "outputs": []
    },
    {
      "cell_type": "code",
      "metadata": {
        "colab": {
          "base_uri": "https://localhost:8080/"
        },
        "id": "YkP7qNFkMDoB",
        "outputId": "b4f808c5-6c10-497e-b2d3-36806ebb1c9a"
      },
      "source": [
        "np.sqrt(mean_squared_error(test_data['Close'],test_data['Forecast_ARIMA']))"
      ],
      "execution_count": null,
      "outputs": [
        {
          "output_type": "execute_result",
          "data": {
            "text/plain": [
              "78.37818903132606"
            ]
          },
          "metadata": {
            "tags": []
          },
          "execution_count": 56
        }
      ]
    },
    {
      "cell_type": "code",
      "metadata": {
        "colab": {
          "base_uri": "https://localhost:8080/"
        },
        "id": "M_GaotQxMFyo",
        "outputId": "924e3d94-d702-4957-d8d0-87a16d33e603"
      },
      "source": [
        "mean_absolute_error(test_data['Close'],test_data['Forecast_ARIMA'])"
      ],
      "execution_count": null,
      "outputs": [
        {
          "output_type": "execute_result",
          "data": {
            "text/plain": [
              "44.981863834359515"
            ]
          },
          "metadata": {
            "tags": []
          },
          "execution_count": 57
        }
      ]
    }
  ]
}